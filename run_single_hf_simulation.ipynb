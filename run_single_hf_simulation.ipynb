{
 "cells": [
  {
   "cell_type": "markdown",
   "id": "048e35c6",
   "metadata": {},
   "source": [
    "###  Imports and Configuration"
   ]
  },
  {
   "cell_type": "code",
   "execution_count": null,
   "id": "f289c133",
   "metadata": {},
   "outputs": [
    {
     "name": "stdout",
     "output_type": "stream",
     "text": [
      "Global seed set to 1\n"
     ]
    }
   ],
   "source": [
    "import torch\n",
    "import numpy as np\n",
    "import matplotlib.pyplot as plt\n",
    "from pathlib import Path\n",
    "import time\n",
    "\n",
    "from mf_npe.simulator.high_fidelity_hh import MarkovHHSimulator\n",
    "from mf_npe.utils.utils import set_global_seed, summarize_voltage, dump_pickle\n",
    "\n",
    "# ------------------- Configuration -------------------\n",
    "SEED = 1\n",
    "SAVE_DIR = Path(\"./outputs/single_hf_trace/\")\n",
    "SAVE_DIR.mkdir(parents=True, exist_ok=True) \n",
    "OUT_FILE_NPZ = SAVE_DIR / \"markov_ground_truth_trace.npz\"\n",
    "OUT_FILE_PKL = SAVE_DIR / \"markov_ground_truth_trace.pkl\"\n",
    "# -----------------------------------------------------\n",
    "\n",
    "# seed for reproducibility\n",
    "set_global_seed(SEED)\n",
    "print(f\"Global seed set to {SEED}\")"
   ]
  },
  {
   "cell_type": "markdown",
   "id": "0fd97eb1",
   "metadata": {},
   "source": [
    "### Define Ground-Truth Parameters"
   ]
  },
  {
   "cell_type": "code",
   "execution_count": 2,
   "id": "74bab19d",
   "metadata": {},
   "outputs": [
    {
     "name": "stdout",
     "output_type": "stream",
     "text": [
      "Using ground-truth parameter set (g_Na, g_K, g_L):\n",
      "[120.   36.    0.3]\n"
     ]
    }
   ],
   "source": [
    "# The canonical Hodgkin-Huxley conductances (mS/cm²)\n",
    "gNa_true = 120.0\n",
    "gK_true  = 36.0\n",
    "gL_true  = 0.3\n",
    "theta_true = torch.tensor([gNa_true, gK_true, gL_true], dtype=torch.float32)\n",
    "\n",
    "print(f\"Using ground-truth parameter set (g_Na, g_K, g_L):\")\n",
    "print(theta_true.numpy())"
   ]
  },
  {
   "cell_type": "markdown",
   "id": "e064e65d",
   "metadata": {},
   "source": [
    "### Run the High-Fidelity Simulator"
   ]
  },
  {
   "cell_type": "code",
   "execution_count": 7,
   "id": "0fafc980",
   "metadata": {},
   "outputs": [
    {
     "name": "stdout",
     "output_type": "stream",
     "text": [
      "Running high-fidelity simulation (this may take a minute)...\n",
      "Simulation finished in 145.1067 seconds.\n"
     ]
    }
   ],
   "source": [
    "# Unpack the parameters\n",
    "gbar_Na, gbar_K, gbar_L = theta_true.tolist()\n",
    "\n",
    "# We use the specific conductances and default channel counts (NNa=6000, NK=1800)\n",
    "simulator = MarkovHHSimulator(g_na=gbar_Na, g_k=gbar_K, g_l=gbar_L)\n",
    "\n",
    "t_array = np.arange(0.0, 50.01, 0.01)  # Simulation time\n",
    "\n",
    "def stimulus_current(t: float) -> float:\n",
    "    \"\"\"Step current: 10 µA·cm⁻² from 10 to 30 ms.\"\"\"\n",
    "    return 10.0 if 10.0 <= t < 30.0 else 0.0\n",
    "\n",
    "# Run the simulation\n",
    "print(\"Running high-fidelity simulation (this may take a minute)...\")\n",
    "start_time = time.time()\n",
    "results = simulator.simulate(t_array, stimulus_current)\n",
    "elapsed_time = time.time() - start_time\n",
    "print(f\"Simulation finished in {elapsed_time:.4f} seconds.\")\n",
    "\n",
    "t_out = results[:, 0]\n",
    "v_out = results[:, 1]"
   ]
  },
  {
   "cell_type": "markdown",
   "id": "eeb770c7",
   "metadata": {},
   "source": [
    "### Summary Statistics"
   ]
  },
  {
   "cell_type": "code",
   "execution_count": 8,
   "id": "d01c0e36",
   "metadata": {},
   "outputs": [
    {
     "name": "stdout",
     "output_type": "stream",
     "text": [
      "Calculated Summary Statistics:\n",
      "  Spike Count: 2.0\n",
      "  Mean Rest:   -66.03 mV\n",
      "  Std Rest:    1.12 mV\n",
      "  Mean Stim:   -50.96 mV\n"
     ]
    }
   ],
   "source": [
    "summary_stats = summarize_voltage(t_out, v_out)\n",
    "\n",
    "print(\"Calculated Summary Statistics:\")\n",
    "print(f\"  Spike Count: {summary_stats[0]}\")\n",
    "print(f\"  Mean Rest:   {summary_stats[1]:.2f} mV\")\n",
    "print(f\"  Std Rest:    {summary_stats[2]:.2f} mV\")\n",
    "print(f\"  Mean Stim:   {summary_stats[3]:.2f} mV\")"
   ]
  },
  {
   "cell_type": "markdown",
   "id": "aa69abec",
   "metadata": {},
   "source": [
    "### Save the Results"
   ]
  },
  {
   "cell_type": "code",
   "execution_count": 9,
   "id": "16696489",
   "metadata": {},
   "outputs": [
    {
     "name": "stdout",
     "output_type": "stream",
     "text": [
      "Saved NPZ results to: outputs\\single_hf_trace\\markov_ground_truth_trace.npz\n",
      "Saved variable to outputs\\single_hf_trace\\markov_ground_truth_trace.pkl\n"
     ]
    }
   ],
   "source": [
    "np.savez(\n",
    "    OUT_FILE_NPZ,\n",
    "    t=t_out,\n",
    "    V_hi=v_out,\n",
    "    summary=summary_stats,\n",
    "    theta=theta_true.numpy(),\n",
    "    seed=SEED,\n",
    "    elapsed_seconds=elapsed_time\n",
    ")\n",
    "print(f\"Saved NPZ results to: {OUT_FILE_NPZ}\")\n",
    "\n",
    "results_dict = {\n",
    "    \"t\": t_out,\n",
    "    \"V_hi\": v_out,\n",
    "    \"theta\": theta_true.numpy(),\n",
    "    \"seed\": SEED,\n",
    "    \"elapsed_seconds\": elapsed_time\n",
    "}\n",
    "dump_pickle(OUT_FILE_PKL, results_dict)"
   ]
  },
  {
   "cell_type": "markdown",
   "id": "a3238f00",
   "metadata": {},
   "source": [
    "### Plot and Save the Voltage Trace"
   ]
  },
  {
   "cell_type": "code",
   "execution_count": 10,
   "id": "6f7b1ac2",
   "metadata": {},
   "outputs": [
    {
     "name": "stdout",
     "output_type": "stream",
     "text": [
      "Plot saved successfully to: outputs\\single_hf_trace\\hf_voltage_trace.png\n"
     ]
    },
    {
     "data": {
      "image/png": "[encoded data removed]",
      "text/plain": [
       "<Figure size 800x400 with 1 Axes>"
      ]
     },
     "metadata": {},
     "output_type": "display_data"
    }
   ],
   "source": [
    "# --- Setup the plot ---\n",
    "plt.figure(figsize=(8, 4))\n",
    "plt.plot(t_out, v_out, lw=1.5, color=\"black\")\n",
    "\n",
    "# Add lines and labels for the stimulus window\n",
    "plt.axvline(10.0, color=\"red\", linestyle=\"--\", label=\"Stimulus On/Off\")\n",
    "plt.axvline(30.0, color=\"red\", linestyle=\"--\")\n",
    "\n",
    "plt.title(f\"High-Fidelity HH (Markov Chain) Voltage Trace\")\n",
    "plt.xlabel(\"Time (ms)\")\n",
    "plt.ylabel(\"Voltage (mV)\")\n",
    "#plt.grid(alpha=0.3)\n",
    "plt.legend()\n",
    "plt.tight_layout()\n",
    "\n",
    "\n",
    "FIGURE_SAVE_PATH = SAVE_DIR / \"hf_voltage_trace.png\"\n",
    "plt.savefig(FIGURE_SAVE_PATH, dpi=300, bbox_inches='tight')\n",
    "print(f\"Plot saved successfully to: {FIGURE_SAVE_PATH}\")\n",
    "plt.show()"
   ]
  }
 ],
 "metadata": {
  "kernelspec": {
   "display_name": ".jax_env",
   "language": "python",
   "name": "python3"
  },
  "language_info": {
   "codemirror_mode": {
    "name": "ipython",
    "version": 3
   },
   "file_extension": ".py",
   "mimetype": "text/x-python",
   "name": "python",
   "nbconvert_exporter": "python",
   "pygments_lexer": "ipython3",
   "version": "3.13.5"
  }
 },
 "nbformat": 4,
 "nbformat_minor": 5
}
