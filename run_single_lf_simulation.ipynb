{
 "cells": [
  {
   "cell_type": "markdown",
   "id": "dfb1162a",
   "metadata": {},
   "source": [
    "###  Imports and Configuration"
   ]
  },
  {
   "cell_type": "code",
   "execution_count": 1,
   "id": "4ab19d62",
   "metadata": {},
   "outputs": [
    {
     "name": "stderr",
     "output_type": "stream",
     "text": [
      "c:\\Users\\Peter\\.jax_env\\Lib\\site-packages\\tqdm\\auto.py:21: TqdmWarning: IProgress not found. Please update jupyter and ipywidgets. See https://ipywidgets.readthedocs.io/en/stable/user_install.html\n",
      "  from .autonotebook import tqdm as notebook_tqdm\n"
     ]
    },
    {
     "name": "stdout",
     "output_type": "stream",
     "text": [
      "Global seed set to 17\n"
     ]
    }
   ],
   "source": [
    "import torch\n",
    "import jax\n",
    "import time\n",
    "import numpy as np\n",
    "import matplotlib.pyplot as plt\n",
    "from pathlib import Path\n",
    "\n",
    "# --- Import the necessary components from our polished codebase ---\n",
    "from mf_npe.simulator.low_fidelity_hh import NoisyHHSimulator\n",
    "from mf_npe.simulator.prior import create_prior\n",
    "from mf_npe.utils.utils import set_global_seed, summarize_voltage, dump_pickle\n",
    "\n",
    "# ------------------- Configuration -------------------\n",
    "SEED = 17\n",
    "SAVE_DIR = Path(\"./outputs/single_lf_trace/\")\n",
    "SAVE_DIR.mkdir(parents=True, exist_ok=True) # Ensure the output directory exists\n",
    "OUT_FILE_NPZ = SAVE_DIR / \"noisy_ground_truth_trace.npz\"\n",
    "OUT_FILE_PKL = SAVE_DIR / \"noisy_ground_truth_trace.pkl\"\n",
    "# -----------------------------------------------------\n",
    "\n",
    "# Set the seed for reproducibility\n",
    "key = set_global_seed(SEED)\n",
    "print(f\"Global seed set to {SEED}\")"
   ]
  },
  {
   "cell_type": "markdown",
   "id": "6b12a7bd",
   "metadata": {},
   "source": [
    "### Define Prior and Sample a Parameter Set"
   ]
  },
  {
   "cell_type": "code",
   "execution_count": 2,
   "id": "8a9f6c43",
   "metadata": {},
   "outputs": [
    {
     "name": "stdout",
     "output_type": "stream",
     "text": [
      "Sampled ground-truth parameter set (g_Na, g_K, g_L):\n",
      "[82.692345   20.00846     0.22650847]\n"
     ]
    }
   ],
   "source": [
    "param_ranges = {\n",
    "    \"g_Na\":   [50.0, 200.0],\n",
    "    \"g_K\":    [20.0, 100.0],\n",
    "    \"g_Leak\": [0.1,   1.0],\n",
    "}\n",
    "\n",
    "prior = create_prior(param_ranges)\n",
    "theta_true = prior.sample()\n",
    "\n",
    "print(f\"Sampled ground-truth parameter set (g_Na, g_K, g_L):\")\n",
    "print(theta_true.numpy())"
   ]
  },
  {
   "cell_type": "markdown",
   "id": "cca2bf80",
   "metadata": {},
   "source": [
    "###  Run the Low-Fidelity Simulator"
   ]
  },
  {
   "cell_type": "code",
   "execution_count": 3,
   "id": "1b1e41f9",
   "metadata": {},
   "outputs": [
    {
     "name": "stdout",
     "output_type": "stream",
     "text": [
      "Running low-fidelity simulation...\n",
      "Simulation finished in 0.7619 seconds.\n"
     ]
    }
   ],
   "source": [
    "import time\n",
    "\n",
    "# Unpack the sampled parameters\n",
    "gbar_Na, gbar_K, gbar_L = theta_true.tolist()\n",
    "\n",
    "simulator = NoisyHHSimulator(g_na=gbar_Na, g_k=gbar_K, g_l=gbar_L)\n",
    "\n",
    "t_array = jax.numpy.arange(0.0, 50.01, 0.01)    #Time\n",
    "\n",
    "# Run the simulation\n",
    "print(\"Running low-fidelity simulation...\")\n",
    "start_time = time.time()\n",
    "t_out, v_out = simulator.simulate(key=key, t_array=t_array)\n",
    "elapsed_time = time.time() - start_time\n",
    "print(f\"Simulation finished in {elapsed_time:.4f} seconds.\")"
   ]
  },
  {
   "cell_type": "markdown",
   "id": "143d54d3",
   "metadata": {},
   "source": [
    "### Summary Statistics"
   ]
  },
  {
   "cell_type": "code",
   "execution_count": 4,
   "id": "42b2d1df",
   "metadata": {},
   "outputs": [
    {
     "name": "stdout",
     "output_type": "stream",
     "text": [
      "Calculated Summary Statistics:\n",
      "  Spike Count: 2.0\n",
      "  Mean Rest:   -63.39 mV\n",
      "  Std Rest:    1.85 mV\n",
      "  Mean Stim:   -49.77 mV\n"
     ]
    }
   ],
   "source": [
    "# Convert JAX arrays to NumPy arrays for processing\n",
    "t_np = np.array(t_out)\n",
    "v_np = np.array(v_out)\n",
    "\n",
    "# Calculate the summary statistics\n",
    "summary_stats = summarize_voltage(t_np, v_np)\n",
    "\n",
    "print(\"Calculated Summary Statistics:\")\n",
    "print(f\"  Spike Count: {summary_stats[0]}\")\n",
    "print(f\"  Mean Rest:   {summary_stats[1]:.2f} mV\")\n",
    "print(f\"  Std Rest:    {summary_stats[2]:.2f} mV\")\n",
    "print(f\"  Mean Stim:   {summary_stats[3]:.2f} mV\")"
   ]
  },
  {
   "cell_type": "markdown",
   "id": "2670220a",
   "metadata": {},
   "source": [
    "### Save the Results"
   ]
  },
  {
   "cell_type": "code",
   "execution_count": 5,
   "id": "191a9504",
   "metadata": {},
   "outputs": [
    {
     "name": "stdout",
     "output_type": "stream",
     "text": [
      "Saved NPZ results to: outputs\\single_lf_trace\\noisy_ground_truth_trace.npz\n",
      "Saved variable to outputs\\single_lf_trace\\noisy_ground_truth_trace.pkl\n"
     ]
    }
   ],
   "source": [
    "# Save results in .npz format for general use\n",
    "np.savez(\n",
    "    OUT_FILE_NPZ,\n",
    "    t=t_np,\n",
    "    V_lo=v_np,\n",
    "    summary=summary_stats,\n",
    "    theta=theta_true.numpy(),\n",
    "    seed=SEED\n",
    ")\n",
    "print(f\"Saved NPZ results to: {OUT_FILE_NPZ}\")\n",
    "\n",
    "# Save results in .pkl format using our utility\n",
    "results_dict = {\n",
    "    \"t\": t_np,\n",
    "    \"V_lo\": v_np,\n",
    "    \"theta_L\": theta_true.numpy(),\n",
    "    \"seed\": SEED\n",
    "}\n",
    "dump_pickle(OUT_FILE_PKL, results_dict)"
   ]
  },
  {
   "cell_type": "markdown",
   "id": "420b45d3",
   "metadata": {},
   "source": [
    "### Plot and Save the Voltage Trace"
   ]
  },
  {
   "cell_type": "code",
   "execution_count": 7,
   "id": "19cdad33",
   "metadata": {},
   "outputs": [
    {
     "name": "stdout",
     "output_type": "stream",
     "text": [
      "Plot saved successfully to: outputs\\single_lf_trace\\lf_voltage_trace.png\n"
     ]
    },
    {
     "data": {
      "image/png": "[encoded data removed]",
      "text/plain": [
       "<Figure size 800x400 with 1 Axes>"
      ]
     },
     "metadata": {},
     "output_type": "display_data"
    }
   ],
   "source": [
    "# --- Setup the plot ---\n",
    "plt.figure(figsize=(8, 4))\n",
    "plt.plot(t_np, v_np, lw=1.5, color=\"black\")\n",
    "\n",
    "# Add lines and labels for the stimulus window\n",
    "plt.axvline(10.0, color=\"red\", linestyle=\"--\", label=\"Stimulus On/Off\")\n",
    "plt.axvline(30.0, color=\"red\", linestyle=\"--\")\n",
    "\n",
    "plt.title(f\"Low-Fidelity HH (Current-Noise) Voltage Trace\")\n",
    "plt.xlabel(\"Time (ms)\")\n",
    "plt.ylabel(\"Voltage (mV)\")\n",
    "# plt.grid(alpha=0.3)\n",
    "plt.legend()\n",
    "plt.tight_layout()\n",
    "\n",
    "FIGURE_SAVE_PATH = SAVE_DIR / \"lf_voltage_trace.png\"\n",
    "plt.savefig(FIGURE_SAVE_PATH, dpi=300, bbox_inches='tight')\n",
    "print(f\"Plot saved successfully to: {FIGURE_SAVE_PATH}\")\n",
    "plt.show()"
   ]
  }
 ],
 "metadata": {
  "kernelspec": {
   "display_name": ".jax_env",
   "language": "python",
   "name": "python3"
  },
  "language_info": {
   "codemirror_mode": {
    "name": "ipython",
    "version": 3
   },
   "file_extension": ".py",
   "mimetype": "text/x-python",
   "name": "python",
   "nbconvert_exporter": "python",
   "pygments_lexer": "ipython3",
   "version": "3.13.5"
  }
 },
 "nbformat": 4,
 "nbformat_minor": 5
}
